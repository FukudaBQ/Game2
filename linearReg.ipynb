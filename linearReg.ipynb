{
  "nbformat": 4,
  "nbformat_minor": 0,
  "metadata": {
    "colab": {
      "name": "linearReg.ipynb",
      "provenance": [],
      "collapsed_sections": [],
      "include_colab_link": true
    },
    "kernelspec": {
      "name": "python3",
      "display_name": "Python 3"
    }
  },
  "cells": [
    {
      "cell_type": "markdown",
      "metadata": {
        "id": "view-in-github",
        "colab_type": "text"
      },
      "source": [
        "<a href=\"https://colab.research.google.com/github/FukudaBQ/Game2/blob/master/linearReg.ipynb\" target=\"_parent\"><img src=\"https://colab.research.google.com/assets/colab-badge.svg\" alt=\"Open In Colab\"/></a>"
      ]
    },
    {
      "cell_type": "markdown",
      "metadata": {
        "id": "dcj0rUd35RFh"
      },
      "source": [
        "CSE 5522 Lab1\n",
        "Jiankai Xu\n"
      ]
    },
    {
      "cell_type": "markdown",
      "metadata": {
        "id": "dkEZLhAu7q-_"
      },
      "source": [
        "Part 1:  Linear Regression for Gene Expression Prediction (40 points)"
      ]
    },
    {
      "cell_type": "code",
      "metadata": {
        "id": "o9hiJ3oA71bK"
      },
      "source": [
        "import matplotlib.pyplot as plt\n",
        "import pandas as pd\n",
        "import numpy as np"
      ],
      "execution_count": null,
      "outputs": []
    },
    {
      "cell_type": "code",
      "metadata": {
        "id": "RcDkIlfC5WSL",
        "colab": {
          "base_uri": "https://localhost:8080/",
          "height": 71
        },
        "outputId": "412ab824-e497-4c47-910b-4dac6c894ea3"
      },
      "source": [
        "miR_URL='https://raw.githubusercontent.com/efosler/cse5522data/master/miRScore-x.csv'\n",
        "miR_df=pd.read_csv(miR_URL)\n",
        "# remove row names from the frist column, rows=samples, cols=miR features\n",
        "miR = np.array(miR_df)[:,1:-1]\n",
        "print (miR.shape)\n",
        "mRNA_well_URL='https://raw.githubusercontent.com/efosler/cse5522data/master/mRNA-y-well-explained.csv'\n",
        "mRNA_well_df=pd.read_csv(mRNA_well_URL)\n",
        "# remove label column, transpose with rows=samples, cols=mRNA\n",
        "#mRNA_well = np.transpose(np.array(mRNA_well_df)[:,1:8896])\n",
        "mRNA_well = np.transpose(np.array(mRNA_well_df)[:,1:8896])\n",
        "\n",
        "print (mRNA_well.shape)\n",
        "mRNA_poor_URL='https://raw.githubusercontent.com/efosler/cse5522data/master/mRNA-y-poor-explained.csv'\n",
        "mRNA_poor_df=pd.read_csv(mRNA_poor_URL)\n",
        "# remove label column, transpose with rows=samples, cols=mRNA\n",
        "mRNA_poor = np.transpose(np.array(mRNA_poor_df)[:,1:8896])\n",
        "print (mRNA_poor.shape)\n",
        "tissue_types_URL = 'https://github.com/efosler/cse5522data/raw/master/cancerType-x-Categorical.csv'\n",
        "tissue_types_df = pd.read_csv(tissue_types_URL)\n",
        "tissue_types = np.array(tissue_types_df)[:,1]\n"
      ],
      "execution_count": null,
      "outputs": [
        {
          "output_type": "stream",
          "text": [
            "(8895, 20)\n",
            "(8895, 35)\n",
            "(8895, 20)\n"
          ],
          "name": "stdout"
        }
      ]
    },
    {
      "cell_type": "code",
      "metadata": {
        "id": "e-hRC2rdExAt",
        "colab": {
          "base_uri": "https://localhost:8080/",
          "height": 35
        },
        "outputId": "985e0e99-64aa-4601-8288-f84791fe513c"
      },
      "source": [
        "from sklearn.model_selection import train_test_split\n",
        "from sklearn.metrics import mean_squared_error, r2_score\n",
        "from sklearn.linear_model import LinearRegression\n",
        "# first, set up dataframe for all variables \n",
        "\n",
        "mRNA_traindata = []\n",
        "mRNA_testdata = []\n",
        "mRNA_totaltarget = []\n",
        "\n",
        "mRNA_traintarget = []\n",
        "mRNA_testtarget = []\n",
        "# for good model\n",
        "\n",
        "for i in range(35):\n",
        "  question = []\n",
        "  for j in range(8895):\n",
        "    question.append(mRNA_well[j][i])\n",
        "  mRNA_totaltarget.append(question)\n",
        "print(len(mRNA_totaltarget))\n",
        "# def train(miR,mRNA_totaltarget,size):\n",
        "#   for k in range(size):\n",
        "#     mRNA_traindata1, mRNA_testdata1, mRNA_traintarget1, mRNA_testtarget1 = train_test_split(miR,mRNA_totaltarget[k],test_size = 0.2)\n",
        "#     mRNA_traindata.append(mRNA_traindata1)\n",
        "#     mRNA_testdata.append(mRNA_testdata1)\n",
        "#     mRNA_traintarget.append(mRNA_traintarget1)\n",
        "#     mRNA_testtarget.append(mRNA_testtarget1)\n",
        "#   return [mRNA_traindata, mRNA_testdata, mRNA_traintarget, mRNA_testtarget]\n",
        "\n",
        "  \n",
        "# for k in range(35):\n",
        "#   mRNA_traindata1, mRNA_testdata1, mRNA_traintarget1, mRNA_testtarget1 = train_test_split(miR,mRNA_totaltarget[k],test_size = 0.2, random_state = 5)\n",
        "#   mRNA_traindata.append(mRNA_traindata1)\n",
        "#   mRNA_testdata.append(mRNA_testdata1)\n",
        "#   mRNA_traintarget.append(mRNA_traintarget1)\n",
        "#   mRNA_testtarget.append(mRNA_testtarget1)\n",
        "\n",
        "# result = train(miR,mRNA_totaltarget,35)\n",
        "# mRNA_traindata = result[0]\n",
        "# mRNA_testdata = result[1]\n",
        "# mRNA_traintarget = result[2]\n",
        "# mRNA_testtarget = result[3]\n",
        "  \n",
        "# print (mRNA_traindata[0].shape)\n",
        "# print (mRNA_testdata[0].shape)\n",
        "# rmse = []\n",
        "# r2 = []\n",
        "# for i in range(35):\n",
        "#   lin_model = LinearRegression()\n",
        "#   lin_model.fit(mRNA_traindata[i],mRNA_traintarget[i])\n",
        "#   train_testpredict=lin_model.predict(mRNA_testdata[i])\n",
        "#   rmse_1 = (np.sqrt(mean_squared_error(mRNA_testtarget[i],train_testpredict)))\n",
        "#   r2_1 = r2_score(mRNA_testtarget[i],train_testpredict)\n",
        "#   rmse.append(rmse_1)\n",
        "#   r2.append(r2_1)\n",
        "#   print('Test RMSE = {}, Test R2 = {}'.format(rmse_1,r2_1))\n",
        "\n",
        "# print('mean r2: ' , np.average(r2))\n",
        "# print('standard deviation r2: ', np.std(r2))\n",
        "# print('mean rmse: ' , np.average(rmse))\n",
        "# print('standard deviation rmse: ', np.std(rmse))\n"
      ],
      "execution_count": null,
      "outputs": [
        {
          "output_type": "stream",
          "text": [
            "35\n"
          ],
          "name": "stdout"
        }
      ]
    },
    {
      "cell_type": "code",
      "metadata": {
        "id": "Io7J-AhAkYlR"
      },
      "source": [
        "def train(miR,mRNA_totaltarget,size):\n",
        "  for k in range(size):\n",
        "    mRNA_traindata1, mRNA_testdata1, mRNA_traintarget1, mRNA_testtarget1 = train_test_split(miR,mRNA_totaltarget[k],test_size = 0.2)\n",
        "    mRNA_traindata.append(mRNA_traindata1)\n",
        "    mRNA_testdata.append(mRNA_testdata1)\n",
        "    mRNA_traintarget.append(mRNA_traintarget1)\n",
        "    mRNA_testtarget.append(mRNA_testtarget1)\n",
        "  return [mRNA_traindata, mRNA_testdata, mRNA_traintarget, mRNA_testtarget]"
      ],
      "execution_count": null,
      "outputs": []
    },
    {
      "cell_type": "markdown",
      "metadata": {
        "id": "KEvxBrDqhxPU"
      },
      "source": [
        "For poor model"
      ]
    },
    {
      "cell_type": "code",
      "metadata": {
        "id": "6dnnimbHhIQd",
        "colab": {
          "base_uri": "https://localhost:8080/",
          "height": 35
        },
        "outputId": "c428ce58-406f-471e-b1de-268208f78017"
      },
      "source": [
        "mRNA_totaltarget_poor = []\n",
        "for i in range(20):\n",
        "  question = []\n",
        "  for j in range(8895):\n",
        "    question.append(mRNA_poor[j][i])\n",
        "  mRNA_totaltarget_poor.append(question)\n",
        "print (len(mRNA_totaltarget_poor[0]))\n",
        "# clear_all(mRNA_traindata,mRNA_testdata,mRNA_traintarget,mRNA_traintarget)\n",
        "# mRNA_traindata = []\n",
        "# mRNA_testdata = []\n",
        "# mRNA_traintarget = []\n",
        "# mRNA_testtarget = []\n",
        "# retult1 = []\n",
        "# resultp = train(miR,mRNA_totaltarget_poor,20)\n",
        "\n",
        "# print(len(mRNA_totaltarget_poor[0]))\n",
        "# # result1.append(resultp)\n",
        "# # resultp = train(miR,mRNA_totaltarget_poor,20)\n",
        "# # result1.append(resultq)\n",
        "# mRNA_traindata = resultp[0]\n",
        "# mRNA_testdata = resultp[1]\n",
        "# mRNA_traintarget = resultp[2]\n",
        "# mRNA_testtarget = resultp[3]\n",
        "# print (mRNA_traindata[0].shape)\n",
        "# print (mRNA_testdata[0].shape)\n",
        "# rmse_p = []\n",
        "# r2_p = []\n",
        "# for i in range(20):\n",
        "#   lin_model = LinearRegression()\n",
        "#   lin_model.fit(mRNA_traindata[i],mRNA_traintarget[i])\n",
        "#   train_testpredict=lin_model.predict(mRNA_testdata[i])\n",
        "#   rmse_1 = (np.sqrt(mean_squared_error(mRNA_testtarget[i],train_testpredict)))\n",
        "#   r2_1 = r2_score(mRNA_testtarget[i],train_testpredict)\n",
        "#   rmse_p.append(rmse_1)\n",
        "#   r2_p.append(r2_1)\n",
        "#   print('Test RMSE = {}, Test R2 = {}'.format(rmse_1,r2_1))\n",
        "\n",
        "# print('mean r2: ' , np.average(r2_p))\n",
        "# print('standard deviation r2: ', np.std(r2_p))\n",
        "# print('mean rmse: ' , np.average(rmse_p))\n",
        "# print('standard deviation rmse: ', np.std(rmse_p))"
      ],
      "execution_count": null,
      "outputs": [
        {
          "output_type": "stream",
          "text": [
            "8895\n"
          ],
          "name": "stdout"
        }
      ]
    },
    {
      "cell_type": "markdown",
      "metadata": {
        "id": "gQxJucis1ftd"
      },
      "source": [
        "repeat the test for 10 times"
      ]
    },
    {
      "cell_type": "code",
      "metadata": {
        "id": "scdXkwM51eko"
      },
      "source": [
        "# mRNA_traindata = []\n",
        "# mRNA_testdata = []\n",
        "# mRNA_traintarget = []\n",
        "# mRNA_testtarget = []\n",
        "# result = []\n",
        "\n",
        "# for i in range(10):\n",
        "#   result.append(train(miR,mRNA_totaltarget,35))\n",
        "#   mRNA_traindata.append(result[i][0])\n",
        "#   mRNA_testdata.append(result[i][1])\n",
        "#   mRNA_traintarget.append(result[i][2])\n",
        "#   mRNA_testtarget.append(result[i][3])\n",
        "# print (len(mRNA_traindata[0])) \n",
        "# rmse = []\n",
        "# r2 = []\n",
        "# for i in range(35):\n",
        "#   lin_model = LinearRegression()\n",
        "#   lin_model.fit(mRNA_traindata[i],mRNA_traintarget[i])\n",
        "#   train_testpredict=lin_model.predict(mRNA_testdata[i])\n",
        "#   rmse_1 = (np.sqrt(mean_squared_error(mRNA_testtarget[i],train_testpredict)))\n",
        "#   r2_1 = r2_score(mRNA_testtarget[i],train_testpredict)\n",
        "#   rmse.append(rmse_1)\n",
        "#   r2.append(r2_1)\n",
        "#   print('Test RMSE = {}, Test R2 = {}'.format(rmse_1,r2_1))  \n",
        "  \n",
        "# print('mean r2: ' , np.average(r2))\n",
        "# print('standard deviation r2: ', np.std(r2))\n",
        "# print('mean rmse: ' , np.average(rmse))\n",
        "# print('standard deviation rmse: ', np.std(rmse))"
      ],
      "execution_count": null,
      "outputs": []
    },
    {
      "cell_type": "code",
      "metadata": {
        "id": "FL0IMR-SHkbm",
        "colab": {
          "base_uri": "https://localhost:8080/",
          "height": 107
        },
        "outputId": "f7a77b96-10dc-43e5-a9d2-bc35417d9176"
      },
      "source": [
        "mRNA_traindata = []\n",
        "mRNA_testdata = []\n",
        "mRNA_traintarget = []\n",
        "mRNA_testtarget = []\n",
        "result = []\n",
        "\n",
        "for i in range(10):\n",
        "  result = train(miR,mRNA_totaltarget,35)\n",
        "  mRNA_traindata.extend(result[0])\n",
        "  mRNA_testdata.extend(result[1])\n",
        "  mRNA_traintarget.extend(result[2])\n",
        "  mRNA_testtarget.extend(result[3])\n",
        "print(len(mRNA_traindata))\n",
        "rmse = []\n",
        "r2 = []\n",
        "for i in range(1000):\n",
        "  lin_model = LinearRegression()\n",
        "  lin_model.fit(mRNA_traindata[i],mRNA_traintarget[i])\n",
        "  train_testpredict=lin_model.predict(mRNA_testdata[i])\n",
        "  rmse_1 = (np.sqrt(mean_squared_error(mRNA_testtarget[i],train_testpredict)))\n",
        "  r2_1 = r2_score(mRNA_testtarget[i],train_testpredict)\n",
        "  rmse.append(rmse_1)\n",
        "  r2.append(r2_1)\n",
        "  #print('Test RMSE = {}, Test R2 = {}'.format(rmse_1,r2_1))  \n",
        "  \n",
        "print('mean r2: ' , np.average(r2))\n",
        "print('standard deviation r2: ', np.std(r2))\n",
        "print('mean rmse: ' , np.average(rmse))\n",
        "print('standard deviation rmse: ', np.std(rmse))"
      ],
      "execution_count": null,
      "outputs": [
        {
          "output_type": "stream",
          "text": [
            "71610\n",
            "mean r2:  0.8300069942291157\n",
            "standard deviation r2:  0.03851841376214423\n",
            "mean rmse:  0.9573073964523676\n",
            "standard deviation rmse:  0.3144496662325109\n"
          ],
          "name": "stdout"
        }
      ]
    },
    {
      "cell_type": "markdown",
      "metadata": {
        "id": "gfk-6Que6lKx"
      },
      "source": [
        "repeat 10 times for the poor one"
      ]
    },
    {
      "cell_type": "code",
      "metadata": {
        "id": "tcja5JG8DyEe"
      },
      "source": [
        "mRNA_totaltarget_poor = []\n",
        "for i in range(20):\n",
        "  question = []\n",
        "  for j in range(8895):\n",
        "    question.append(mRNA_poor[j][i])\n",
        "  mRNA_totaltarget_poor.append(question)\n",
        "mRNA_traindata1 = []\n",
        "mRNA_testdata1 = []\n",
        "mRNA_traintarget1 = []\n",
        "mRNA_testtarget1 = []\n",
        "print(len(mRNA_traindata1))\n",
        "for i in range(10):\n",
        "  resultp = train(miR,mRNA_totaltarget_poor,20)\n",
        "  mRNA_traindata1.extend(resultp[0])\n",
        "  mRNA_testdata1.extend(resultp[1])\n",
        "  mRNA_traintarget1.extend(resultp[2])\n",
        "  mRNA_testtarget1.extend(resultp[3])\n",
        "print(len(mRNA_traindata1))\n",
        "rmse_p = []\n",
        "r2_p = []\n",
        "for i in range(1000):\n",
        "  lin_model = LinearRegression()\n",
        "  lin_model.fit(mRNA_traindata1[i],mRNA_traintarget1[i])\n",
        "  train_testpredict=lin_model.predict(mRNA_testdata1[i])\n",
        "  rmse_1 = (np.sqrt(mean_squared_error(mRNA_testtarget1[i],train_testpredict)))\n",
        "  r2_1 = r2_score(mRNA_testtarget1[i],train_testpredict)\n",
        "  rmse_p.append(rmse_1)\n",
        "  r2_p.append(r2_1)\n",
        "  print('Test RMSE = {}, Test R2 = {}'.format(rmse_1,r2_1))\n",
        "\n",
        "print('mean r2: ' , np.average(r2_p))\n",
        "print('standard deviation r2: ', np.std(r2_p))\n",
        "print('mean rmse: ' , np.average(rmse_p))\n",
        "print('standard deviation rmse: ', np.std(rmse_p))"
      ],
      "execution_count": null,
      "outputs": []
    },
    {
      "cell_type": "markdown",
      "metadata": {
        "id": "9P06aG0ZIYiT"
      },
      "source": [
        "2.  Visualize and compare the performance of the well expressed gene set to the poorly expressed gene set using R2.  Draw histograms of the R2s for both sets on the same plot; one histogram comparison should be done for train and one for test. "
      ]
    },
    {
      "cell_type": "code",
      "metadata": {
        "id": "cR_hMTKKIXBf",
        "colab": {
          "base_uri": "https://localhost:8080/",
          "height": 275
        },
        "outputId": "fd2aa216-aa12-4790-cce2-e2d3327f3b23"
      },
      "source": [
        "import seaborn as sns\n",
        "sns.set(color_codes=True)\n",
        "sns.distplot(r2, bins=20, kde=False, rug=True, label='well');\n",
        "sns.distplot(r2_p, bins=20, kde=False, rug=True, label='poor');\n",
        "\n"
      ],
      "execution_count": null,
      "outputs": [
        {
          "output_type": "display_data",
          "data": {
            "image/png": "[encoded data removed]",
            "text/plain": [
              "<Figure size 432x288 with 1 Axes>"
            ]
          },
          "metadata": {
            "tags": []
          }
        }
      ]
    },
    {
      "cell_type": "markdown",
      "metadata": {
        "id": "GjhjBz-_Oyo8"
      },
      "source": [
        "3. In this part, we want to add a categorical feature as the 22nd predictor. Tissue type is an important factor in explaining the gene expression profile. Our samples come from 32 tissue types which are provided to you in a separate file. Use dummy variable coding to include the tissue type in your regression.  "
      ]
    },
    {
      "cell_type": "code",
      "metadata": {
        "id": "gSdSnTwYO2zT",
        "colab": {
          "base_uri": "https://localhost:8080/",
          "height": 107
        },
        "outputId": "53b923df-3ecf-4924-dcc9-cb7847d757f3"
      },
      "source": [
        "tissue_types_u = np.unique(tissue_types)\n",
        "attr = []\n",
        "print(len(tissue_types_u))\n",
        "for i in range(8895):\n",
        "  for j in range(33):\n",
        "    mark = [0]*32\n",
        "    if tissue_types[i] == tissue_types_u[j]:\n",
        "      mark[j] = 1\n",
        "      break\n",
        "  attr.extend(mark)\n",
        "print(len(attr))\n",
        "att = np.array(attr)\n",
        "att = att.reshape((8895,32))\n",
        "print(miR.shape)\n",
        "print(att.shape)\n",
        "miR_a = np.concatenate((miR,att),axis = 1)\n",
        "print(len(miR_a[0]))\n",
        "\n"
      ],
      "execution_count": null,
      "outputs": [
        {
          "output_type": "stream",
          "text": [
            "32\n",
            "284640\n",
            "(8895, 20)\n",
            "(8895, 32)\n",
            "52\n"
          ],
          "name": "stdout"
        }
      ]
    },
    {
      "cell_type": "code",
      "metadata": {
        "id": "9Z2F28RwbTFi",
        "colab": {
          "base_uri": "https://localhost:8080/",
          "height": 719
        },
        "outputId": "e994f211-52a5-410a-dea9-28395482baf3"
      },
      "source": [
        "mRNA_traindata_a = []\n",
        "mRNA_testdata_a = []\n",
        "mRNA_traintarget_a = []\n",
        "mRNA_testtarget_a = []\n",
        "result_a = []\n",
        "\n",
        "for i in range(10):\n",
        "  result = train(miR_a,mRNA_totaltarget,35)\n",
        "  mRNA_traindata_a.extend(result[0])\n",
        "  mRNA_testdata_a.extend(result[1])\n",
        "  mRNA_traintarget_a.extend(result[2])\n",
        "  mRNA_testtarget_a.extend(result[3])\n",
        "\n",
        "rmse_a = []\n",
        "r2_a = []\n",
        "for i in range(35):\n",
        "  lin_model = LinearRegression()\n",
        "  lin_model.fit(mRNA_traindata_a[i],mRNA_traintarget_a[i])\n",
        "  train_testpredict=lin_model.predict(mRNA_testdata_a[i])\n",
        "  rmse_1 = (np.sqrt(mean_squared_error(mRNA_testtarget_a[i],train_testpredict)))\n",
        "  r2_1 = r2_score(mRNA_testtarget_a[i],train_testpredict)\n",
        "  rmse_a.append(rmse_1)\n",
        "  r2_a.append(r2_1)\n",
        "  print(i,',Test RMSE = {}, Test R2 = {}'.format(rmse_1,r2_1))  \n",
        "  \n",
        "print('mean r2: ' , np.average(r2_a))\n",
        "print('standard deviation r2: ', np.std(r2_a))\n",
        "print('mean rmse: ' , np.average(rmse_a))\n",
        "print('standard deviation rmse: ', np.std(rmse_a))"
      ],
      "execution_count": null,
      "outputs": [
        {
          "output_type": "stream",
          "text": [
            "0 ,Test RMSE = 0.0, Test R2 = 1.0\n",
            "1 ,Test RMSE = 1.0743401450848507, Test R2 = 0.8804551190440197\n",
            "2 ,Test RMSE = 0.7810562001625184, Test R2 = 0.8738350454592196\n",
            "3 ,Test RMSE = 1.1985716435902656, Test R2 = 0.8735825389139802\n",
            "4 ,Test RMSE = 0.8499394896925603, Test R2 = 0.8600143183355478\n",
            "5 ,Test RMSE = 1.154664188859454, Test R2 = 0.8718661549199189\n",
            "6 ,Test RMSE = 1.1833111765051034, Test R2 = 0.8552870762027345\n",
            "7 ,Test RMSE = 1.2875332996162425, Test R2 = 0.8462067998556831\n",
            "8 ,Test RMSE = 0.7687266848767651, Test R2 = 0.8251518149893017\n",
            "9 ,Test RMSE = 1.2921313945852266, Test R2 = 0.8261099591290159\n",
            "10 ,Test RMSE = 1.306749253039538, Test R2 = 0.8303559565167176\n",
            "11 ,Test RMSE = 1.0025850658726554, Test R2 = 0.8312745249853897\n",
            "12 ,Test RMSE = 1.4127487160741716, Test R2 = 0.8168690887219051\n",
            "13 ,Test RMSE = 0.8631497242415309, Test R2 = 0.8229657181319564\n",
            "14 ,Test RMSE = 1.179117384262309, Test R2 = 0.8182983934203973\n",
            "15 ,Test RMSE = 0.9935077295737648, Test R2 = 0.8203857478528345\n",
            "16 ,Test RMSE = 0.8899804605505856, Test R2 = 0.8265218589810305\n",
            "17 ,Test RMSE = 0.7155896373684844, Test R2 = 0.7950887297007015\n",
            "18 ,Test RMSE = 0.857531167840927, Test R2 = 0.7884419763245502\n",
            "19 ,Test RMSE = 0.62612023557581, Test R2 = 0.8253698583076081\n",
            "20 ,Test RMSE = 0.9088066951159604, Test R2 = 0.8017927585906443\n",
            "21 ,Test RMSE = 0.4873517863534327, Test R2 = 0.824223668289946\n",
            "22 ,Test RMSE = 1.0141914294932537, Test R2 = 0.8419423932970562\n",
            "23 ,Test RMSE = 0.9190607964443093, Test R2 = 0.8038864928559046\n",
            "24 ,Test RMSE = 1.4841442965473925, Test R2 = 0.8235096899757921\n",
            "25 ,Test RMSE = 0.7944629377290532, Test R2 = 0.8163885509526954\n",
            "26 ,Test RMSE = 0.9830559537480641, Test R2 = 0.7931094925643261\n",
            "27 ,Test RMSE = 0.6325559236721817, Test R2 = 0.8017701639030286\n",
            "28 ,Test RMSE = 1.2642331104830162, Test R2 = 0.8044048209914121\n",
            "29 ,Test RMSE = 1.0693938784865544, Test R2 = 0.8209039836119653\n",
            "30 ,Test RMSE = 0.4559325853938152, Test R2 = 0.811067660670928\n",
            "31 ,Test RMSE = 0.809576144370795, Test R2 = 0.8076820171504445\n",
            "32 ,Test RMSE = 1.1205987222438791, Test R2 = 0.8059023917561662\n",
            "33 ,Test RMSE = 0.7237626742305252, Test R2 = 0.7954922013293867\n",
            "34 ,Test RMSE = 1.6089284465820248, Test R2 = 0.7740010993292559\n",
            "mean r2:  0.8289759447160417\n",
            "standard deviation r2:  0.03883932613697076\n",
            "mean rmse:  0.963240256521915\n",
            "standard deviation rmse:  0.3150468679787969\n"
          ],
          "name": "stdout"
        }
      ]
    }
  ]
}